{
 "cells": [
  {
   "cell_type": "code",
   "execution_count": 4,
   "metadata": {},
   "outputs": [
    {
     "data": {
      "text/plain": [
       "array([ 1,  4,  7, 10, 13, 16, 19])"
      ]
     },
     "execution_count": 4,
     "metadata": {},
     "output_type": "execute_result"
    }
   ],
   "source": [
    "import numpy as np\n",
    "#array of 20 elements each incremented by 3\n",
    "np.arange(1,20,3)"
   ]
  },
  {
   "cell_type": "code",
   "execution_count": 24,
   "metadata": {},
   "outputs": [
    {
     "name": "stdout",
     "output_type": "stream",
     "text": [
      "1D :  [0.25340493 0.63172816 0.72876427]\n",
      "2D :  [[0.05218434 0.10490651]\n",
      " [0.75224389 0.1224776 ]\n",
      " [0.52328618 0.26710371]]\n",
      "3D :  [[[0.53560391 0.49204955]\n",
      "  [0.48069732 0.60949136]\n",
      "  [0.17578412 0.4478645 ]]\n",
      "\n",
      " [[0.25803417 0.01148351]\n",
      "  [0.52009666 0.30995644]\n",
      "  [0.51259818 0.91644321]]\n",
      "\n",
      " [[0.04200161 0.60034018]\n",
      "  [0.54203164 0.78153213]\n",
      "  [0.05398004 0.88062021]]\n",
      "\n",
      " [[0.1345915  0.45173578]\n",
      "  [0.28918458 0.30467435]\n",
      "  [0.13296357 0.77596036]]]\n",
      "5\n"
     ]
    }
   ],
   "source": [
    "\n",
    "#rand gives 1D array if one parameter passed between 0 to 1\n",
    "r1 = np.random.rand(3)\n",
    "print(\"1D : \", r1)\n",
    "\n",
    "#rand gives 2D array if 2 parameter passed between 0 to 1\n",
    "r2 = np.random.rand(3,2)\n",
    "print(\"2D : \", r2)\n",
    "\n",
    "#rand gives 3D array if 3 parameter passed between 0 to 1\n",
    "r3 = np.random.rand(4,3,2)\n",
    "print(\"3D : \", r3)\n",
    "\n",
    "rand=np.random.randint(1,6)\n",
    "print(\"Random number: \",rand)"
   ]
  },
  {
   "cell_type": "code",
   "execution_count": 35,
   "metadata": {},
   "outputs": [
    {
     "name": "stdout",
     "output_type": "stream",
     "text": [
      "first two rows:  [[10 20 45]\n",
      " [30 12 16]]\n",
      "last two rows:  [[30 12 16]\n",
      " [42 17 56]]\n",
      "last two rows and last two columns:  [[12 16]\n",
      " [17 56]]\n",
      "first two rows and last two columns:  [[20 45]\n",
      " [12 16]]\n"
     ]
    }
   ],
   "source": [
    "x=np.array([[10,20,45], [30,12,16], [42,17,56]])\n",
    "print(\"first two rows: \", x[:2])\n",
    "print(\"last two rows: \",x[1:])\n",
    "print(\"last two rows and last two columns: \",x[1:,1:])\n",
    "print(\"first two rows and last two columns: \",x[:2,1:])"
   ]
  },
  {
   "cell_type": "code",
   "execution_count": 44,
   "metadata": {},
   "outputs": [
    {
     "name": "stdout",
     "output_type": "stream",
     "text": [
      "horz stack:  [[ 10   5 104 131]\n",
      " [  4  10 139 108]]\n",
      "vert stack:  [[ 10   5]\n",
      " [  4  10]\n",
      " [104 131]\n",
      " [139 108]]\n"
     ]
    }
   ],
   "source": [
    "x=np.random.randint(1,15,size=(2,2))\n",
    "y=np.random.randint(100,150,size=(2,2))\n",
    "\n",
    "horstack= np.hstack((x,y))\n",
    "print(\"horz stack: \",horstack)\n",
    "\n",
    "verstack= np.vstack((x,y))\n",
    "print(\"vert stack: \",verstack)"
   ]
  }
 ],
 "metadata": {
  "kernelspec": {
   "display_name": "Python 3",
   "language": "python",
   "name": "python3"
  },
  "language_info": {
   "codemirror_mode": {
    "name": "ipython",
    "version": 3
   },
   "file_extension": ".py",
   "mimetype": "text/x-python",
   "name": "python",
   "nbconvert_exporter": "python",
   "pygments_lexer": "ipython3",
   "version": "3.11.0"
  },
  "orig_nbformat": 4
 },
 "nbformat": 4,
 "nbformat_minor": 2
}
