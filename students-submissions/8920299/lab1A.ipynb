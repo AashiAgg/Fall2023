{
 "cells": [
  {
   "cell_type": "code",
   "execution_count": 4,
   "metadata": {},
   "outputs": [
    {
     "data": {
      "text/plain": [
       "array([ 1,  4,  7, 10, 13, 16, 19])"
      ]
     },
     "execution_count": 4,
     "metadata": {},
     "output_type": "execute_result"
    }
   ],
   "source": [
    "import numpy as np\n",
    "#array of 20 elements each incremented by 3\n",
    "np.arange(1,21,3)"
   ]
  },
  {
   "cell_type": "code",
   "execution_count": 9,
   "metadata": {},
   "outputs": [
    {
     "name": "stdout",
     "output_type": "stream",
     "text": [
      "1D :  [0.33476836 0.5480316  0.98617984]\n",
      "2D :  [[0.94420724 0.37405892 0.69599829]\n",
      " [0.44965667 0.77883185 0.44081186]\n",
      " [0.42136383 0.90253656 0.58582271]]\n",
      "3D :  [[[0.49263978 0.98774809]\n",
      "  [0.32038323 0.96704844]\n",
      "  [0.6827182  0.75681492]]\n",
      "\n",
      " [[0.87423835 0.92871553]\n",
      "  [0.36514884 0.48760953]\n",
      "  [0.88179386 0.89463699]]\n",
      "\n",
      " [[0.35534354 0.37719995]\n",
      "  [0.58863911 0.82486844]\n",
      "  [0.754201   0.86767886]]\n",
      "\n",
      " [[0.7573605  0.89116327]\n",
      "  [0.62107491 0.30573366]\n",
      "  [0.65690756 0.97577798]]]\n",
      "(4, 3, 2)\n",
      "Random number:  1\n"
     ]
    }
   ],
   "source": [
    "\n",
    "import numpy as np\n",
    "#rand gives 1D array if one parameter passed between 0 to 1\n",
    "r1 = np.random.rand(3)\n",
    "print(\"1D : \", r1)\n",
    "\n",
    "#rand gives 2D array if 2 parameter passed between 0 to 1\n",
    "r2 = np.random.rand(3,3)\n",
    "print(\"2D : \", r2)\n",
    "\n",
    "#rand gives 3D array if 3 parameter passed between 0 to 1\n",
    "r3 = np.random.rand(4,3,2)\n",
    "print(\"3D : \", r3)\n",
    "\n",
    "print(np.shape(r3))\n",
    "\n",
    "\n",
    "rand=np.random.randint(1,6)\n",
    "print(\"Random number: \",rand)                                                                "
   ]
  },
  {
   "cell_type": "code",
   "execution_count": 35,
   "metadata": {},
   "outputs": [
    {
     "name": "stdout",
     "output_type": "stream",
     "text": [
      "first two rows:  [[10 20 45]\n",
      " [30 12 16]]\n",
      "last two rows:  [[30 12 16]\n",
      " [42 17 56]]\n",
      "last two rows and last two columns:  [[12 16]\n",
      " [17 56]]\n",
      "first two rows and last two columns:  [[20 45]\n",
      " [12 16]]\n"
     ]
    }
   ],
   "source": [
    "x=np.array([[10,20,45], [30,12,16], [42,17,56]])\n",
    "print(\"first two rows: \", x[0:2])\n",
    "print(\"last two rows: \",x[1:])\n",
    "print(\"last two rows and last two columns: \",x[1:,1:])\n",
    "print(\"first two rows and last two columns: \",x[:2,1:])"
   ]
  },
  {
   "cell_type": "code",
   "execution_count": 10,
   "metadata": {},
   "outputs": [
    {
     "name": "stdout",
     "output_type": "stream",
     "text": [
      "horz stack:  [[  7   4 137 146]\n",
      " [  5  10 131 134]]\n",
      "vert stack:  [[  7   4]\n",
      " [  5  10]\n",
      " [137 146]\n",
      " [131 134]]\n"
     ]
    }
   ],
   "source": [
    "x=np.random.randint(1,15,size=(2,2))\n",
    "y=np.random.randint(100,150,size=(2,2))\n",
    "\n",
    "horstack= np.hstack((x,y))\n",
    "print(\"horz stack: \",horstack)\n",
    "\n",
    "verstack= np.vstack((x,y))\n",
    "print(\"vert stack: \",verstack)"
   ]
  },
  {
   "cell_type": "code",
   "execution_count": 16,
   "metadata": {},
   "outputs": [
    {
     "name": "stdout",
     "output_type": "stream",
     "text": [
      "[[70 28]\n",
      " [70 30]\n",
      " [60 26]]\n",
      "[[70 28]\n",
      " [70 30]\n",
      " [60 26]]\n"
     ]
    }
   ],
   "source": [
    "X= np.array([[5, 7, 2], [4, 5, 6], [7, 4 ,2]]) \n",
    "Y= np.array([[4, 2], [6, 2], [4, 2]])\n",
    "product=np.dot(X,Y)\n",
    "print(product)\n",
    "#print(X@Y)\n",
    "#Multiplication is not possible when the columns of matrix 1 is not equal to rows of matrix 2."
   ]
  },
  {
   "cell_type": "code",
   "execution_count": 20,
   "metadata": {},
   "outputs": [
    {
     "name": "stdout",
     "output_type": "stream",
     "text": [
      "x shape= (3,)\n",
      "x dimension=  1\n",
      "xreshape= [[ 2]\n",
      " [-1]\n",
      " [-8]]\n",
      "y shape= (3,)\n",
      "y dimension=  1\n",
      "[[ 3]\n",
      " [ 1]\n",
      " [-2]]\n"
     ]
    }
   ],
   "source": [
    "x=np.array([2,-1,-8])\n",
    "y=np.array([3,1,-2])\n",
    "\n",
    "xshape=x.shape\n",
    "xdim=x.ndim\n",
    "\n",
    "print(\"x shape=\", xshape)\n",
    "print(\"x dimension= \",xdim)\n",
    "\n",
    "xreshape=x.reshape(3,1)\n",
    "print(\"xreshape=\",xreshape)\n",
    "\n",
    "yshape=y.shape\n",
    "ydim=y.ndim\n",
    "\n",
    "print(\"y shape=\", yshape)\n",
    "print(\"y dimension= \",ydim)\n",
    "\n",
    "yreshape=y.reshape(3,1)\n",
    "print(yreshape)"
   ]
  },
  {
   "cell_type": "code",
   "execution_count": 18,
   "metadata": {},
   "outputs": [
    {
     "name": "stdout",
     "output_type": "stream",
     "text": [
      "subtract [[-1  0  1]\n",
      " [ 2  3  4]\n",
      " [ 5  6  7]]\n",
      "addition [[ 3  4  5]\n",
      " [ 6  7  8]\n",
      " [ 9 10 11]]\n",
      "multiply [[ 2  4  6]\n",
      " [ 8 10 12]\n",
      " [14 16 18]]\n"
     ]
    }
   ],
   "source": [
    "import numpy as np\n",
    "\n",
    "# Create a 3x3 matrix\n",
    "A = np.array([[1, 2, 3],\n",
    "              [4, 5, 6],\n",
    "              [7, 8, 9]])\n",
    "\n",
    "# Subtract/multiply/adding 2 from each element using broadcasting\n",
    "sub = A - 2\n",
    "add= A+2\n",
    "mul = A*2\n",
    "\n",
    "print(\"subtract\",sub)\n",
    "print(\"addition\",add)\n",
    "print(\"multiply\",mul)"
   ]
  }
 ],
 "metadata": {
  "kernelspec": {
   "display_name": "Python 3",
   "language": "python",
   "name": "python3"
  },
  "language_info": {
   "codemirror_mode": {
    "name": "ipython",
    "version": 3
   },
   "file_extension": ".py",
   "mimetype": "text/x-python",
   "name": "python",
   "nbconvert_exporter": "python",
   "pygments_lexer": "ipython3",
   "version": "3.11.0"
  },
  "orig_nbformat": 4
 },
 "nbformat": 4,
 "nbformat_minor": 2
}
