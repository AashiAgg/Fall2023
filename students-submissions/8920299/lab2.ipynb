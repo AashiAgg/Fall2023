{
 "cells": [
  {
   "cell_type": "code",
   "execution_count": 5,
   "metadata": {},
   "outputs": [],
   "source": [
    "import pandas as pd\n",
    "import numpy as np\n",
    "from sklearn.svm import SVC\n",
    "from sklearn.metrics import accuracy_score\n",
    "from sklearn.model_selection import train_test_split\n",
    "from sklearn.feature_extraction.text import CountVectorizer\n",
    "from sklearn.naive_bayes import GaussianNB, MultinomialNB"
   ]
  },
  {
   "cell_type": "markdown",
   "metadata": {},
   "source": [
    "<h1> PART A </h1>"
   ]
  },
  {
   "cell_type": "code",
   "execution_count": 6,
   "metadata": {},
   "outputs": [
    {
     "name": "stdout",
     "output_type": "stream",
     "text": [
      "SVC accuracy: 0.9559164733178654\n",
      "GaussianNB accuracy: 0.9597834493426141\n",
      "MultinomialNB accuracy: 0.9775715390564579\n"
     ]
    }
   ],
   "source": [
    "data = pd.read_csv('Lab2_dataset.csv')\n",
    "\n",
    "vectorizer = CountVectorizer()\n",
    "X = vectorizer.fit_transform(data['text'])\n",
    "\n",
    "y = data['label']\n",
    "X_train, X_test, y_train, y_test = train_test_split(X, y, test_size=0.25, random_state=0)\n",
    "\n",
    "#Support Vector Machine (SVM) Classifier\n",
    "\n",
    "svc = SVC()\n",
    "svc.fit(X_train, y_train)\n",
    "y_pred = svc.predict(X_test)\n",
    "svc_accuracy = accuracy_score(y_test, y_pred)\n",
    "print(\"SVC accuracy:\", svc_accuracy)\n",
    "\n",
    "# Gaussian Naive Bayes Classifier\n",
    "gnb = GaussianNB()\n",
    "gnb.fit(X_train.toarray(), y_train)\n",
    "y_pred = gnb.predict(X_test.toarray())\n",
    "gnb_accuracy = accuracy_score(y_test, y_pred)\n",
    "print(\"GaussianNB accuracy:\", gnb_accuracy)\n",
    "\n",
    "# Multinomial Naive Bayes Classifier\n",
    "mnb = MultinomialNB()\n",
    "mnb.fit(X_train, y_train)\n",
    "y_pred = mnb.predict(X_test)\n",
    "mnb_accuracy = accuracy_score(y_test, y_pred)\n",
    "print(\"MultinomialNB accuracy:\", mnb_accuracy)"
   ]
  },
  {
   "cell_type": "markdown",
   "metadata": {},
   "source": [
    "<h1> PART B </h1>"
   ]
  },
  {
   "cell_type": "code",
   "execution_count": 7,
   "metadata": {},
   "outputs": [
    {
     "name": "stdout",
     "output_type": "stream",
     "text": [
      "Actual data before removing outliers:  48895\n",
      "Data after removing outliers using Z-score approach:  48507\n",
      "Data after removing outliers using IQR approach:  45923\n"
     ]
    }
   ],
   "source": [
    "data = pd.read_csv('AB_NYC_2019.csv')\n",
    "\n",
    "# Z-score approach to remove outliers\n",
    "z_value = np.abs((data['price'] - data['price'].mean()) / data['price'].std())\n",
    "data_z = data[z_value < 3]\n",
    "\n",
    "# IQR approach to remove outliers\n",
    "def lab2_partb(data, price):\n",
    "    q1 = data[price].quantile(0.25)\n",
    "    q3 = data[price].quantile(0.75)\n",
    "    iqr = q3 - q1\n",
    "\n",
    "    # Calculate the upper and lower bounds for outliers\n",
    "    left_whisker = q1 - 1.5 * iqr\n",
    "    right_whisker = q3 + 1.5 * iqr\n",
    "\n",
    "    # Remove outliers\n",
    "    final_data = data[(data[price] >= left_whisker) & (data[price] <= right_whisker)]\n",
    "    \n",
    "    return final_data\n",
    "\n",
    "data_iqr = lab2_partb(data, 'price')\n",
    "\n",
    "# Print the number of data points before and after removing outliers for both approaches\n",
    "print('Actual data before removing outliers: ', len(data))\n",
    "print('Data after removing outliers using Z-score approach: ', len(data_z))\n",
    "print('Data after removing outliers using IQR approach: ', len(data_iqr))\n"
   ]
  },
  {
   "cell_type": "markdown",
   "metadata": {},
   "source": [
    "<h2> \n",
    "It is observed that z-score approach removed 350-400 outliers which means there is less chances of data loss.\n",
    "\n",
    "But IQR approach has majorly removed upto 5000 outliers which could result in significant data loss.\n",
    "\n",
    "</h2>"
   ]
  }
 ],
 "metadata": {
  "kernelspec": {
   "display_name": "Python 3",
   "language": "python",
   "name": "python3"
  },
  "language_info": {
   "codemirror_mode": {
    "name": "ipython",
    "version": 3
   },
   "file_extension": ".py",
   "mimetype": "text/x-python",
   "name": "python",
   "nbconvert_exporter": "python",
   "pygments_lexer": "ipython3",
   "version": "3.11.0"
  }
 },
 "nbformat": 4,
 "nbformat_minor": 2
}
